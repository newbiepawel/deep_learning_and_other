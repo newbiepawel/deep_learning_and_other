{
  "nbformat": 4,
  "nbformat_minor": 0,
  "metadata": {
    "colab": {
      "name": "Boltzmann_machine_tensorflow.ipynb",
      "version": "0.3.2",
      "provenance": [],
      "include_colab_link": true
    },
    "kernelspec": {
      "name": "python3",
      "display_name": "Python 3"
    }
  },
  "cells": [
    {
      "cell_type": "markdown",
      "metadata": {
        "id": "view-in-github",
        "colab_type": "text"
      },
      "source": [
        "<a href=\"https://colab.research.google.com/github/newbiepawel/deep_learning_and_other/blob/master/Boltzmann_machine_tensorflow.ipynb\" target=\"_parent\"><img src=\"https://colab.research.google.com/assets/colab-badge.svg\" alt=\"Open In Colab\"/></a>"
      ]
    },
    {
      "cell_type": "code",
      "metadata": {
        "id": "z6Xmb347aw7S",
        "colab_type": "code",
        "colab": {}
      },
      "source": [
        "import tensorflow as tf\n",
        "import numpy as np\n",
        "import pandas as pd\n",
        "import matplotlib.pyplot as plt\n",
        "%matplotlib inline"
      ],
      "execution_count": 0,
      "outputs": []
    },
    {
      "cell_type": "code",
      "metadata": {
        "id": "1DkkZoKhcx83",
        "colab_type": "code",
        "colab": {}
      },
      "source": [
        "url2 = 'https://raw.githubusercontent.com/srp98/Movie-Recommender-using-RBM/master/ml-1m/ratings.dat'\n",
        "url3 = 'https://raw.githubusercontent.com/srp98/Movie-Recommender-using-RBM/master/ml-1m/users.dat'"
      ],
      "execution_count": 0,
      "outputs": []
    },
    {
      "cell_type": "code",
      "metadata": {
        "id": "LOZmLmZfcx_3",
        "colab_type": "code",
        "colab": {
          "base_uri": "https://localhost:8080/",
          "height": 71
        },
        "outputId": "df6ec760-6225-45a7-b10e-c3dc0b44a038"
      },
      "source": [
        "\n",
        "ratings_df = pd.read_csv(url2, sep = '::')\n",
        "users_df = pd.read_csv(url3)"
      ],
      "execution_count": 3,
      "outputs": [
        {
          "output_type": "stream",
          "text": [
            "/usr/local/lib/python3.6/dist-packages/ipykernel_launcher.py:2: ParserWarning: Falling back to the 'python' engine because the 'c' engine does not support regex separators (separators > 1 char and different from '\\s+' are interpreted as regex); you can avoid this warning by specifying engine='python'.\n",
            "  \n"
          ],
          "name": "stderr"
        }
      ]
    },
    {
      "cell_type": "code",
      "metadata": {
        "id": "oNcQD25ufFwh",
        "colab_type": "code",
        "colab": {
          "resources": {
            "http://localhost:8080/nbextensions/google.colab/files.js": {
              "data": "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",
              "ok": true,
              "headers": [
                [
                  "content-type",
                  "application/javascript"
                ]
              ],
              "status": 200,
              "status_text": ""
            }
          },
          "base_uri": "https://localhost:8080/",
          "height": 74
        },
        "outputId": "8708d52b-ca23-415c-d68c-6244f9ee268f"
      },
      "source": [
        "from google.colab import files\n",
        "uploaded = files.upload()"
      ],
      "execution_count": 4,
      "outputs": [
        {
          "output_type": "display_data",
          "data": {
            "text/html": [
              "\n",
              "     <input type=\"file\" id=\"files-13348b15-05c6-4472-ac93-c8ff03f4fc90\" name=\"files[]\" multiple disabled />\n",
              "     <output id=\"result-13348b15-05c6-4472-ac93-c8ff03f4fc90\">\n",
              "      Upload widget is only available when the cell has been executed in the\n",
              "      current browser session. Please rerun this cell to enable.\n",
              "      </output>\n",
              "      <script src=\"/nbextensions/google.colab/files.js\"></script> "
            ],
            "text/plain": [
              "<IPython.core.display.HTML object>"
            ]
          },
          "metadata": {
            "tags": []
          }
        },
        {
          "output_type": "stream",
          "text": [
            "Saving movies.dat to movies.dat\n"
          ],
          "name": "stdout"
        }
      ]
    },
    {
      "cell_type": "code",
      "metadata": {
        "id": "2YqhYRHxcyDR",
        "colab_type": "code",
        "colab": {
          "base_uri": "https://localhost:8080/",
          "height": 71
        },
        "outputId": "27f97615-c6ea-4635-bae7-a2fc3f87b70c"
      },
      "source": [
        "\n",
        "import io\n",
        "movies_df = pd.read_csv(io.BytesIO(uploaded['movies.dat']), sep = '::', encoding = 'latin-1')\n"
      ],
      "execution_count": 5,
      "outputs": [
        {
          "output_type": "stream",
          "text": [
            "/usr/local/lib/python3.6/dist-packages/ipykernel_launcher.py:3: ParserWarning: Falling back to the 'python' engine because the 'c' engine does not support regex separators (separators > 1 char and different from '\\s+' are interpreted as regex); you can avoid this warning by specifying engine='python'.\n",
            "  This is separate from the ipykernel package so we can avoid doing imports until\n"
          ],
          "name": "stderr"
        }
      ]
    },
    {
      "cell_type": "code",
      "metadata": {
        "id": "VtAxcAVycyHA",
        "colab_type": "code",
        "colab": {
          "base_uri": "https://localhost:8080/",
          "height": 204
        },
        "outputId": "1d7118ef-b54a-4024-88f0-469cb0986e56"
      },
      "source": [
        "movies_df.head()"
      ],
      "execution_count": 24,
      "outputs": [
        {
          "output_type": "execute_result",
          "data": {
            "text/html": [
              "<div>\n",
              "<style scoped>\n",
              "    .dataframe tbody tr th:only-of-type {\n",
              "        vertical-align: middle;\n",
              "    }\n",
              "\n",
              "    .dataframe tbody tr th {\n",
              "        vertical-align: top;\n",
              "    }\n",
              "\n",
              "    .dataframe thead th {\n",
              "        text-align: right;\n",
              "    }\n",
              "</style>\n",
              "<table border=\"1\" class=\"dataframe\">\n",
              "  <thead>\n",
              "    <tr style=\"text-align: right;\">\n",
              "      <th></th>\n",
              "      <th>1</th>\n",
              "      <th>Toy Story (1995)</th>\n",
              "      <th>Animation|Children's|Comedy</th>\n",
              "    </tr>\n",
              "  </thead>\n",
              "  <tbody>\n",
              "    <tr>\n",
              "      <th>0</th>\n",
              "      <td>2</td>\n",
              "      <td>Jumanji (1995)</td>\n",
              "      <td>Adventure|Children's|Fantasy</td>\n",
              "    </tr>\n",
              "    <tr>\n",
              "      <th>1</th>\n",
              "      <td>3</td>\n",
              "      <td>Grumpier Old Men (1995)</td>\n",
              "      <td>Comedy|Romance</td>\n",
              "    </tr>\n",
              "    <tr>\n",
              "      <th>2</th>\n",
              "      <td>4</td>\n",
              "      <td>Waiting to Exhale (1995)</td>\n",
              "      <td>Comedy|Drama</td>\n",
              "    </tr>\n",
              "    <tr>\n",
              "      <th>3</th>\n",
              "      <td>5</td>\n",
              "      <td>Father of the Bride Part II (1995)</td>\n",
              "      <td>Comedy</td>\n",
              "    </tr>\n",
              "    <tr>\n",
              "      <th>4</th>\n",
              "      <td>6</td>\n",
              "      <td>Heat (1995)</td>\n",
              "      <td>Action|Crime|Thriller</td>\n",
              "    </tr>\n",
              "  </tbody>\n",
              "</table>\n",
              "</div>"
            ],
            "text/plain": [
              "   1                    Toy Story (1995)   Animation|Children's|Comedy\n",
              "0  2                      Jumanji (1995)  Adventure|Children's|Fantasy\n",
              "1  3             Grumpier Old Men (1995)                Comedy|Romance\n",
              "2  4            Waiting to Exhale (1995)                  Comedy|Drama\n",
              "3  5  Father of the Bride Part II (1995)                        Comedy\n",
              "4  6                         Heat (1995)         Action|Crime|Thriller"
            ]
          },
          "metadata": {
            "tags": []
          },
          "execution_count": 24
        }
      ]
    },
    {
      "cell_type": "code",
      "metadata": {
        "id": "Rghrz8wjcyKT",
        "colab_type": "code",
        "colab": {}
      },
      "source": [
        "# Lets rename our columns in these data frames so we can convey their data better\n",
        "movies_df.columns = ['MovieID', 'Title', 'Genres']\n",
        "ratings_df.columns = ['UserID', 'MovieID', 'Rating', 'Timestamp']"
      ],
      "execution_count": 0,
      "outputs": []
    },
    {
      "cell_type": "code",
      "metadata": {
        "id": "2t0_MK4UcyPp",
        "colab_type": "code",
        "colab": {
          "base_uri": "https://localhost:8080/",
          "height": 221
        },
        "outputId": "aa0e0d29-a515-4362-e001-354ba0b4bb35"
      },
      "source": [
        "# Verify the changes done to the dataframes\n",
        "print(movies_df.head())\n",
        "print(ratings_df.head())"
      ],
      "execution_count": 7,
      "outputs": [
        {
          "output_type": "stream",
          "text": [
            "   MovieID                               Title                        Genres\n",
            "0        2                      Jumanji (1995)  Adventure|Children's|Fantasy\n",
            "1        3             Grumpier Old Men (1995)                Comedy|Romance\n",
            "2        4            Waiting to Exhale (1995)                  Comedy|Drama\n",
            "3        5  Father of the Bride Part II (1995)                        Comedy\n",
            "4        6                         Heat (1995)         Action|Crime|Thriller\n",
            "   UserID  MovieID  Rating  Timestamp\n",
            "0       1      661       3  978302109\n",
            "1       1      914       3  978301968\n",
            "2       1     3408       4  978300275\n",
            "3       1     2355       5  978824291\n",
            "4       1     1197       3  978302268\n"
          ],
          "name": "stdout"
        }
      ]
    },
    {
      "cell_type": "code",
      "metadata": {
        "id": "8C99n25ucySU",
        "colab_type": "code",
        "colab": {
          "base_uri": "https://localhost:8080/",
          "height": 34
        },
        "outputId": "044ae726-4de1-4bdb-a47c-b0f4e65df353"
      },
      "source": [
        "# Data Correction and Formatting\n",
        "print('The Number of Movies in Dataset', len(movies_df))"
      ],
      "execution_count": 8,
      "outputs": [
        {
          "output_type": "stream",
          "text": [
            "The Number of Movies in Dataset 3882\n"
          ],
          "name": "stdout"
        }
      ]
    },
    {
      "cell_type": "code",
      "metadata": {
        "id": "A2RqSZSscyVM",
        "colab_type": "code",
        "colab": {
          "base_uri": "https://localhost:8080/",
          "height": 130
        },
        "outputId": "39a43c87-b2fc-406d-d7ff-52e93a4fe888"
      },
      "source": [
        "# Our Movie ID's vary from 1 to 3952 while we have 3883 movies. \n",
        "# Due to this, we won't be able to index movies through their ID since we would get memory indexing errors. \n",
        "# To amend we can create a column that shows the spot in our list that particular movie is in:\n",
        "\"\"\"\n",
        "\n"
      ],
      "execution_count": 9,
      "outputs": [
        {
          "output_type": "error",
          "ename": "SyntaxError",
          "evalue": "ignored",
          "traceback": [
            "\u001b[0;36m  File \u001b[0;32m\"<ipython-input-9-f83a5dc1a385>\"\u001b[0;36m, line \u001b[0;32m1\u001b[0m\n\u001b[0;31m    - Our Movie ID's vary from 1 to 3952 while we have 3883 movies.\u001b[0m\n\u001b[0m              ^\u001b[0m\n\u001b[0;31mSyntaxError\u001b[0m\u001b[0;31m:\u001b[0m invalid syntax\n"
          ]
        }
      ]
    },
    {
      "cell_type": "code",
      "metadata": {
        "id": "CBtqWOz0cyYU",
        "colab_type": "code",
        "colab": {
          "base_uri": "https://localhost:8080/",
          "height": 153
        },
        "outputId": "7bd66ac6-8377-43d7-e86c-d7bf7572f3f9"
      },
      "source": [
        "movies_df['List Index'] = movies_df.index\n",
        "print(movies_df.head())"
      ],
      "execution_count": 10,
      "outputs": [
        {
          "output_type": "stream",
          "text": [
            "   MovieID  ... List Index\n",
            "0        2  ...          0\n",
            "1        3  ...          1\n",
            "2        4  ...          2\n",
            "3        5  ...          3\n",
            "4        6  ...          4\n",
            "\n",
            "[5 rows x 4 columns]\n"
          ],
          "name": "stdout"
        }
      ]
    },
    {
      "cell_type": "code",
      "metadata": {
        "id": "YkMPYJcolb2c",
        "colab_type": "code",
        "colab": {}
      },
      "source": [
        "# Merge movies_df with ratings_df by MovieID\n",
        "merged_df = movies_df.merge(ratings_df, on='MovieID')"
      ],
      "execution_count": 0,
      "outputs": []
    },
    {
      "cell_type": "code",
      "metadata": {
        "id": "yjt5PCfnlb5s",
        "colab_type": "code",
        "colab": {}
      },
      "source": [
        "# Drop unnecessary columns\n",
        "merged_df = merged_df.drop('Timestamp', axis=1).drop('Title', axis=1).drop('Genres', axis=1)"
      ],
      "execution_count": 0,
      "outputs": []
    },
    {
      "cell_type": "code",
      "metadata": {
        "id": "uGkTEGcAlb8u",
        "colab_type": "code",
        "colab": {
          "base_uri": "https://localhost:8080/",
          "height": 119
        },
        "outputId": "d650d605-b8c4-4a76-8b04-e0d29002425b"
      },
      "source": [
        "# Display the result\n",
        "print(merged_df.head())"
      ],
      "execution_count": 13,
      "outputs": [
        {
          "output_type": "stream",
          "text": [
            "   MovieID  List Index  UserID  Rating\n",
            "0        2           0      10       5\n",
            "1        2           0      13       3\n",
            "2        2           0      18       2\n",
            "3        2           0      23       2\n",
            "4        2           0      27       1\n"
          ],
          "name": "stdout"
        }
      ]
    },
    {
      "cell_type": "code",
      "metadata": {
        "id": "KD6MJsQGlieU",
        "colab_type": "code",
        "colab": {
          "base_uri": "https://localhost:8080/",
          "height": 1000
        },
        "outputId": "c3507467-1974-4057-c8c2-429d5a849166"
      },
      "source": [
        "# Lets Group up the Users by their user ID's\n",
        "user_Group = merged_df.groupby('UserID')\n",
        "print(user_Group.head())"
      ],
      "execution_count": 14,
      "outputs": [
        {
          "output_type": "stream",
          "text": [
            "        MovieID  List Index  UserID  Rating\n",
            "0             2           0      10       5\n",
            "1             2           0      13       3\n",
            "2             2           0      18       2\n",
            "3             2           0      23       2\n",
            "4             2           0      27       1\n",
            "5             2           0      40       5\n",
            "6             2           0      44       4\n",
            "7             2           0      48       3\n",
            "8             2           0      53       5\n",
            "9             2           0      60       5\n",
            "10            2           0      62       4\n",
            "11            2           0      75       4\n",
            "12            2           0      83       3\n",
            "13            2           0      92       2\n",
            "14            2           0     109       4\n",
            "15            2           0     114       4\n",
            "16            2           0     119       5\n",
            "17            2           0     127       3\n",
            "18            2           0     136       1\n",
            "19            2           0     146       3\n",
            "20            2           0     147       4\n",
            "21            2           0     148       5\n",
            "22            2           0     149       3\n",
            "23            2           0     157       3\n",
            "24            2           0     163       3\n",
            "25            2           0     195       3\n",
            "26            2           0     198       3\n",
            "27            2           0     204       4\n",
            "28            2           0     222       3\n",
            "29            2           0     223       5\n",
            "...         ...         ...     ...     ...\n",
            "788117     2947        2877    1573       5\n",
            "790825     2951        2881    3552       4\n",
            "797857     2985        2915    3043       1\n",
            "801279     2989        2919    5772       3\n",
            "804507     2997        2927    4025       5\n",
            "808175     3015        2945    3132       4\n",
            "816003     3050        2980    3245       1\n",
            "818339     3061        2991     886       3\n",
            "819746     3068        2998    1270       3\n",
            "824201     3082        3012    3043       2\n",
            "828544     3099        3029    3959       2\n",
            "829781     3101        3031    4061       5\n",
            "835433     3114        3044    2867       5\n",
            "840268     3148        3078    2357       3\n",
            "846413     3174        3104    2245       5\n",
            "850084     3177        3107    2245       3\n",
            "851167     3182        3112     886       3\n",
            "851381     3185        3115     886       4\n",
            "851420     3185        3115    1270       3\n",
            "852510     3190        3120      61       1\n",
            "852544     3190        3120    1270       1\n",
            "852837     3194        3124    4211       4\n",
            "857656     3225        3155    1240       1\n",
            "858056     3238        3168    3542       1\n",
            "864116     3255        3185    4025       3\n",
            "872812     3285        3215    1270       1\n",
            "881193     3357        3287    4896       5\n",
            "901838     3448        3378    4025       5\n",
            "926735     3548        3478     986       3\n",
            "931127     3568        3498    1226       3\n",
            "\n",
            "[30200 rows x 4 columns]\n"
          ],
          "name": "stdout"
        }
      ]
    },
    {
      "cell_type": "markdown",
      "metadata": {
        "id": "EcXVE7JPlnSN",
        "colab_type": "text"
      },
      "source": [
        "\n",
        "\"\"\"\n",
        "Formatting the data into input for the RBM. \n",
        "Store the normalized users ratings into a list of lists called trX.\n",
        "\"\"\""
      ]
    },
    {
      "cell_type": "code",
      "metadata": {
        "id": "4Q1MiTIclicB",
        "colab_type": "code",
        "colab": {}
      },
      "source": [
        "\n",
        "# Amount of users used for training\n",
        "amountOfUsedUsers = 1000"
      ],
      "execution_count": 0,
      "outputs": []
    },
    {
      "cell_type": "code",
      "metadata": {
        "id": "e6XnssPDliZ1",
        "colab_type": "code",
        "colab": {
          "base_uri": "https://localhost:8080/",
          "height": 187
        },
        "outputId": "8f45d019-cd29-4a83-9d18-17ae1fe04b88"
      },
      "source": [
        "# Creating the training list\n",
        "trX = []\n",
        "\n",
        "# For each user in the group\n",
        "for userID, curUser in user_Group:\n",
        "\n",
        "    # Create a temp that stores every movie's rating\n",
        "    temp = [0]*len(movies_df)\n",
        "\n",
        "    # For each movie in curUser's movie list\n",
        "    for num, movie in curUser.iterrows():\n",
        "\n",
        "        # Divide the rating by 5 and store it\n",
        "        temp[movie['List Index']] = movie['Rating']/5.0\n",
        "\n",
        "    # Add the list of ratings into the training list\n",
        "    trX.append(temp)\n",
        "\n",
        "    # Check to see if we finished adding in the amount of users for training\n",
        "    if amountOfUsedUsers == 0:\n",
        "        break\n",
        "    amountOfUsedUsers -= 1\n",
        "print(trX)"
      ],
      "execution_count": 16,
      "outputs": [
        {
          "output_type": "stream",
          "text": [
            "IOPub data rate exceeded.\n",
            "The notebook server will temporarily stop sending output\n",
            "to the client in order to avoid crashing it.\n",
            "To change this limit, set the config variable\n",
            "`--NotebookApp.iopub_data_rate_limit`.\n",
            "\n",
            "Current values:\n",
            "NotebookApp.iopub_data_rate_limit=1000000.0 (bytes/sec)\n",
            "NotebookApp.rate_limit_window=3.0 (secs)\n",
            "\n"
          ],
          "name": "stderr"
        }
      ]
    },
    {
      "cell_type": "code",
      "metadata": {
        "id": "ZXik1YKilxXT",
        "colab_type": "code",
        "colab": {}
      },
      "source": [
        "# Setting the models Parameters\n",
        "hiddenUnits = 50\n",
        "visibleUnits = len(movies_df)\n",
        "vb = tf.placeholder(tf.float32, [visibleUnits])  # Number of unique movies\n",
        "hb = tf.placeholder(tf.float32, [hiddenUnits])  # Number of features were going to learn\n",
        "W = tf.placeholder(tf.float32, [visibleUnits, hiddenUnits])  # Weight Matrix\n"
      ],
      "execution_count": 0,
      "outputs": []
    },
    {
      "cell_type": "code",
      "metadata": {
        "id": "D51WKwoGlxfQ",
        "colab_type": "code",
        "colab": {}
      },
      "source": [
        "# Phase 1: Input Processing\n",
        "v0 = tf.placeholder(\"float\", [None, visibleUnits])\n",
        "_h0 = tf.nn.sigmoid(tf.matmul(v0, W) + hb)  # Visible layer activation\n",
        "h0 = tf.nn.relu(tf.sign(_h0 - tf.random_uniform(tf.shape(_h0))))  # Gibb's Sampling"
      ],
      "execution_count": 0,
      "outputs": []
    },
    {
      "cell_type": "code",
      "metadata": {
        "id": "6GmmMDKclxjE",
        "colab_type": "code",
        "colab": {}
      },
      "source": [
        "\n",
        "# Phase 2: Reconstruction\n",
        "_v1 = tf.nn.sigmoid(tf.matmul(h0, tf.transpose(W)) + vb)  # Hidden layer activation\n",
        "v1 = tf.nn.relu(tf.sign(_v1 - tf.random_uniform(tf.shape(_v1))))\n",
        "h1 = tf.nn.sigmoid(tf.matmul(v1, W) + hb)\n"
      ],
      "execution_count": 0,
      "outputs": []
    },
    {
      "cell_type": "markdown",
      "metadata": {
        "id": "E58aV123l-kn",
        "colab_type": "text"
      },
      "source": [
        "\"\"\" Set RBM Training Parameters \"\"\"\n"
      ]
    },
    {
      "cell_type": "code",
      "metadata": {
        "id": "usnUTzYklxc0",
        "colab_type": "code",
        "colab": {}
      },
      "source": [
        "\n",
        "# Learning rate\n",
        "alpha = 1.0\n"
      ],
      "execution_count": 0,
      "outputs": []
    },
    {
      "cell_type": "code",
      "metadata": {
        "id": "IC55XvEalxaX",
        "colab_type": "code",
        "colab": {}
      },
      "source": [
        "# Create the gradients\n",
        "w_pos_grad = tf.matmul(tf.transpose(v0), h0)\n",
        "w_neg_grad = tf.matmul(tf.transpose(v1), h1)"
      ],
      "execution_count": 0,
      "outputs": []
    },
    {
      "cell_type": "code",
      "metadata": {
        "id": "dO9Q2TK4mEzt",
        "colab_type": "code",
        "colab": {
          "base_uri": "https://localhost:8080/",
          "height": 85
        },
        "outputId": "12c3ec19-f3d4-49f9-e111-c20115e96d0d"
      },
      "source": [
        "# Calculate the Contrastive Divergence to maximize\n",
        "CD = (w_pos_grad - w_neg_grad) / tf.to_float(tf.shape(v0)[0])\n"
      ],
      "execution_count": 23,
      "outputs": [
        {
          "output_type": "stream",
          "text": [
            "WARNING: Logging before flag parsing goes to stderr.\n",
            "W0816 08:43:25.770721 140515996874624 deprecation.py:323] From <ipython-input-23-28dba45a9886>:1: to_float (from tensorflow.python.ops.math_ops) is deprecated and will be removed in a future version.\n",
            "Instructions for updating:\n",
            "Use `tf.cast` instead.\n"
          ],
          "name": "stderr"
        }
      ]
    },
    {
      "cell_type": "code",
      "metadata": {
        "id": "dbVZOwnrmE3E",
        "colab_type": "code",
        "colab": {}
      },
      "source": [
        "# Create methods to update the weights and biases\n",
        "update_w = W + alpha * CD\n",
        "update_vb = vb + alpha * tf.reduce_mean(v0 - v1, 0)\n",
        "update_hb = hb + alpha * tf.reduce_mean(h0 - h1, 0)\n"
      ],
      "execution_count": 0,
      "outputs": []
    },
    {
      "cell_type": "code",
      "metadata": {
        "id": "2uyA7EajmOR0",
        "colab_type": "code",
        "colab": {}
      },
      "source": [
        "# Set the error function, here we use Mean Absolute Error Function\n",
        "err = v0 - v1\n",
        "err_sum = tf.reduce_mean(err*err)\n"
      ],
      "execution_count": 0,
      "outputs": []
    },
    {
      "cell_type": "markdown",
      "metadata": {
        "id": "X7Q5B_LDmRkV",
        "colab_type": "text"
      },
      "source": [
        "\n",
        "\"\"\" Initialize our Variables with Zeroes using Numpy Library \"\"\""
      ]
    },
    {
      "cell_type": "code",
      "metadata": {
        "id": "G0VhxY1fmOUb",
        "colab_type": "code",
        "colab": {}
      },
      "source": [
        "# Current weight\n",
        "cur_w = np.zeros([visibleUnits, hiddenUnits], np.float32)"
      ],
      "execution_count": 0,
      "outputs": []
    },
    {
      "cell_type": "code",
      "metadata": {
        "id": "0liDnOsAmOaW",
        "colab_type": "code",
        "colab": {}
      },
      "source": [
        "# Current visible unit biases\n",
        "cur_vb = np.zeros([visibleUnits], np.float32)"
      ],
      "execution_count": 0,
      "outputs": []
    },
    {
      "cell_type": "code",
      "metadata": {
        "id": "obfn2KzRmOYG",
        "colab_type": "code",
        "colab": {}
      },
      "source": [
        "# Current hidden unit biases\n",
        "cur_hb = np.zeros([hiddenUnits], np.float32)"
      ],
      "execution_count": 0,
      "outputs": []
    },
    {
      "cell_type": "code",
      "metadata": {
        "id": "CYKMcRtUmdvk",
        "colab_type": "code",
        "colab": {}
      },
      "source": [
        "# Previous weight\n",
        "prv_w = np.zeros([visibleUnits, hiddenUnits], np.float32)"
      ],
      "execution_count": 0,
      "outputs": []
    },
    {
      "cell_type": "code",
      "metadata": {
        "id": "yPRILHCqmd1B",
        "colab_type": "code",
        "colab": {}
      },
      "source": [
        "# Previous visible unit biases\n",
        "prv_vb = np.zeros([visibleUnits], np.float32)"
      ],
      "execution_count": 0,
      "outputs": []
    },
    {
      "cell_type": "code",
      "metadata": {
        "id": "4eqNQuZhmd3k",
        "colab_type": "code",
        "colab": {}
      },
      "source": [
        "# Previous hidden unit biases\n",
        "prv_hb = np.zeros([hiddenUnits], np.float32)\n",
        "sess = tf.Session()\n",
        "sess.run(tf.global_variables_initializer())"
      ],
      "execution_count": 0,
      "outputs": []
    },
    {
      "cell_type": "code",
      "metadata": {
        "id": "JDPpLZ8Jmd_i",
        "colab_type": "code",
        "colab": {
          "base_uri": "https://localhost:8080/",
          "height": 538
        },
        "outputId": "5b09b2f1-5aa1-4430-9bf1-df01e854032b"
      },
      "source": [
        "# Train RBM with 15 Epochs, with Each Epoch using 10 batches with size 100, After training print out the error by epoch\n",
        "epochs = 15\n",
        "batchsize = 100\n",
        "errors = []\n",
        "for i in range(epochs):\n",
        "    for start, end in zip(range(0, len(trX), batchsize), range(batchsize, len(trX), batchsize)):\n",
        "        batch = trX[start:end]\n",
        "        cur_w = sess.run(update_w, feed_dict={v0: batch, W: prv_w, vb: prv_vb, hb: prv_hb})\n",
        "        cur_vb = sess.run(update_vb, feed_dict={v0: batch, W: prv_w, vb: prv_vb, hb: prv_hb})\n",
        "        cur_hb = sess.run(update_hb, feed_dict={v0: batch, W: prv_w, vb: prv_vb, hb: prv_hb})\n",
        "        prv_w = cur_w\n",
        "        prv_vb = cur_vb\n",
        "        prv_hb = cur_hb\n",
        "    errors.append(sess.run(err_sum, feed_dict={v0: trX, W: cur_w, vb: cur_vb, hb: cur_hb}))\n",
        "    print(errors[-1])\n",
        "plt.plot(errors)\n",
        "plt.ylabel('Error')\n",
        "plt.xlabel('Epoch')\n",
        "plt.show()\n"
      ],
      "execution_count": 32,
      "outputs": [
        {
          "output_type": "stream",
          "text": [
            "0.122328974\n",
            "0.08231844\n",
            "0.06760775\n",
            "0.059724905\n",
            "0.053300366\n",
            "0.04950998\n",
            "0.045729265\n",
            "0.044471532\n",
            "0.043240305\n",
            "0.042743072\n",
            "0.042097144\n",
            "0.041431192\n",
            "0.040980432\n",
            "0.0406604\n",
            "0.040358696\n"
          ],
          "name": "stdout"
        },
        {
          "output_type": "display_data",
          "data": {
            "image/png": "[encoded data removed]",
            "text/plain": [
              "<Figure size 432x288 with 1 Axes>"
            ]
          },
          "metadata": {
            "tags": []
          }
        }
      ]
    },
    {
      "cell_type": "markdown",
      "metadata": {
        "id": "PtWezW1umnZf",
        "colab_type": "text"
      },
      "source": [
        "\n",
        "\"\"\"\n",
        "Recommendation System :-\n",
        "- We can now predict movies that an arbitrarily selected user might like. \n",
        "- This can be accomplished by feeding in the user's watched movie preferences into the RBM and then reconstructing the \n",
        "  input. \n",
        "- The values that the RBM gives us will attempt to estimate the user's preferences for movies that he hasn't watched \n",
        "  based on the preferences of the users that the RBM was trained on.\n",
        "\"\"\""
      ]
    },
    {
      "cell_type": "code",
      "metadata": {
        "id": "XoqNB9ZBmd9g",
        "colab_type": "code",
        "colab": {}
      },
      "source": [
        "# Select the input User\n",
        "inputUser = [trX[50]]"
      ],
      "execution_count": 0,
      "outputs": []
    },
    {
      "cell_type": "code",
      "metadata": {
        "id": "VTu-B48-md7J",
        "colab_type": "code",
        "colab": {}
      },
      "source": [
        "# Feeding in the User and Reconstructing the input\n",
        "hh0 = tf.nn.sigmoid(tf.matmul(v0, W) + hb)\n",
        "vv1 = tf.nn.sigmoid(tf.matmul(hh0, tf.transpose(W)) + vb)\n",
        "feed = sess.run(hh0, feed_dict={v0: inputUser, W: prv_w, hb: prv_hb})\n",
        "rec = sess.run(vv1, feed_dict={hh0: feed, W: prv_w, vb: prv_vb})"
      ],
      "execution_count": 0,
      "outputs": []
    },
    {
      "cell_type": "code",
      "metadata": {
        "id": "_lUlSYQNmdzD",
        "colab_type": "code",
        "colab": {
          "base_uri": "https://localhost:8080/",
          "height": 408
        },
        "outputId": "225b52db-d623-402e-83a8-c0158e00a1b4"
      },
      "source": [
        "# List the 20 most recommended movies for our mock user by sorting it by their scores given by our model.\n",
        "scored_movies_df_50 = movies_df\n",
        "scored_movies_df_50[\"Recommendation Score\"] = rec[0]\n",
        "print(scored_movies_df_50.sort_values([\"Recommendation Score\"], ascending=False).head(20))"
      ],
      "execution_count": 35,
      "outputs": [
        {
          "output_type": "stream",
          "text": [
            "      MovieID                        Title  ... List Index  Recommendation Score\n",
            "2788     2858       American Beauty (1999)  ...       2788              0.739034\n",
            "3681     3751           Chicken Run (2000)  ...       3681              0.346440\n",
            "3090     3160              Magnolia (1999)  ...       3090              0.334460\n",
            "522       527      Schindler's List (1993)  ...        522              0.317381\n",
            "2927     2997  Being John Malkovich (1999)  ...       2927              0.305897\n",
            "603       608                 Fargo (1996)  ...        603              0.301152\n",
            "2529     2599              Election (1999)  ...       2529              0.293774\n",
            "1574     1617     L.A. Confidential (1997)  ...       1574              0.284363\n",
            "2326     2396   Shakespeare in Love (1998)  ...       2326              0.281866\n",
            "3411     3481         High Fidelity (2000)  ...       3411              0.271328\n",
            "107       110            Braveheart (1995)  ...        107              0.268945\n",
            "3044     3114           Toy Story 2 (1999)  ...       3044              0.262987\n",
            "219       223                Clerks (1994)  ...        219              0.261923\n",
            "292       296          Pulp Fiction (1994)  ...        292              0.255267\n",
            "3508     3578             Gladiator (2000)  ...       3508              0.252425\n",
            "475       480         Jurassic Park (1993)  ...        475              0.249929\n",
            "3683     3753          Patriot, The (2000)  ...       3683              0.248928\n",
            "1244     1265         Groundhog Day (1993)  ...       1244              0.245991\n",
            "1958     2028   Saving Private Ryan (1998)  ...       1958              0.240106\n",
            "3338     3408       Erin Brockovich (2000)  ...       3338              0.237850\n",
            "\n",
            "[20 rows x 5 columns]\n"
          ],
          "name": "stdout"
        }
      ]
    },
    {
      "cell_type": "markdown",
      "metadata": {
        "id": "Qqgy7iOan2Y0",
        "colab_type": "text"
      },
      "source": [
        "\"\"\" Recommend User what movies he has not watched yet \"\"\""
      ]
    },
    {
      "cell_type": "code",
      "metadata": {
        "id": "w_H68Wg-n3Xq",
        "colab_type": "code",
        "colab": {}
      },
      "source": [
        "# Find the mock user's UserID from the data\n",
        "print(merged_df.iloc[50])  # Result you get is UserID 150"
      ],
      "execution_count": 0,
      "outputs": []
    },
    {
      "cell_type": "code",
      "metadata": {
        "id": "-Z2_jLIbn3c6",
        "colab_type": "code",
        "colab": {
          "base_uri": "https://localhost:8080/",
          "height": 119
        },
        "outputId": "68044027-1945-4a86-e2f5-9067c1098607"
      },
      "source": [
        "# Find all movies the mock user has watched before\n",
        "movies_df_50 = merged_df[merged_df['UserID'] == 150]\n",
        "print(movies_df_50.head())"
      ],
      "execution_count": 36,
      "outputs": [
        {
          "output_type": "stream",
          "text": [
            "       MovieID  List Index  UserID  Rating\n",
            "9789        24          22     150       4\n",
            "10415       25          23     150       4\n",
            "13890       34          32     150       5\n",
            "34451      111         108     150       4\n",
            "38411      144         141     150       4\n"
          ],
          "name": "stdout"
        }
      ]
    },
    {
      "cell_type": "markdown",
      "metadata": {
        "id": "fUcCeQ4Un8xL",
        "colab_type": "text"
      },
      "source": [
        "\n",
        "\"\"\" Merge all movies that our mock users has watched with predicted scores based on his historical data: \"\"\""
      ]
    },
    {
      "cell_type": "code",
      "metadata": {
        "id": "FCHbtEhOn3gS",
        "colab_type": "code",
        "colab": {}
      },
      "source": [
        "# Merging movies_df with ratings_df by MovieID\n",
        "merged_df_50 = scored_movies_df_50.merge(movies_df_50, on='MovieID', how='outer')"
      ],
      "execution_count": 0,
      "outputs": []
    },
    {
      "cell_type": "code",
      "metadata": {
        "id": "KhnZBiwDn3a0",
        "colab_type": "code",
        "colab": {}
      },
      "source": [
        "# Dropping unnecessary columns\n",
        "merged_df_50 = merged_df_50.drop('List Index_y', axis=1).drop('UserID', axis=1)"
      ],
      "execution_count": 0,
      "outputs": []
    },
    {
      "cell_type": "code",
      "metadata": {
        "id": "ZtqN5he0cybr",
        "colab_type": "code",
        "colab": {
          "base_uri": "https://localhost:8080/",
          "height": 425
        },
        "outputId": "573c90c1-df31-42da-8752-19691d6746ca"
      },
      "source": [
        "# Sort and take a look at first 20 rows\n",
        "print(merged_df_50.sort_values(['Recommendation Score'], ascending=False).head(20))\n",
        "\n",
        "\"\"\" There are some movies the user has not watched and has high score based on our model. So, we can recommend them. \"\"\""
      ],
      "execution_count": 39,
      "outputs": [
        {
          "output_type": "stream",
          "text": [
            "      MovieID                        Title  ... Recommendation Score  Rating\n",
            "2788     2858       American Beauty (1999)  ...             0.739034     5.0\n",
            "3681     3751           Chicken Run (2000)  ...             0.346440     4.0\n",
            "3090     3160              Magnolia (1999)  ...             0.334460     3.0\n",
            "522       527      Schindler's List (1993)  ...             0.317381     4.0\n",
            "2927     2997  Being John Malkovich (1999)  ...             0.305897     4.0\n",
            "603       608                 Fargo (1996)  ...             0.301152     5.0\n",
            "2529     2599              Election (1999)  ...             0.293774     3.0\n",
            "1574     1617     L.A. Confidential (1997)  ...             0.284363     4.0\n",
            "2326     2396   Shakespeare in Love (1998)  ...             0.281866     5.0\n",
            "3411     3481         High Fidelity (2000)  ...             0.271328     4.0\n",
            "107       110            Braveheart (1995)  ...             0.268945     NaN\n",
            "3044     3114           Toy Story 2 (1999)  ...             0.262987     NaN\n",
            "219       223                Clerks (1994)  ...             0.261923     4.0\n",
            "292       296          Pulp Fiction (1994)  ...             0.255267     5.0\n",
            "3508     3578             Gladiator (2000)  ...             0.252425     5.0\n",
            "475       480         Jurassic Park (1993)  ...             0.249929     4.0\n",
            "3683     3753          Patriot, The (2000)  ...             0.248928     NaN\n",
            "1244     1265         Groundhog Day (1993)  ...             0.245991     3.0\n",
            "1958     2028   Saving Private Ryan (1998)  ...             0.240106     5.0\n",
            "3338     3408       Erin Brockovich (2000)  ...             0.237850     3.0\n",
            "\n",
            "[20 rows x 6 columns]\n"
          ],
          "name": "stdout"
        },
        {
          "output_type": "execute_result",
          "data": {
            "text/plain": [
              "' There are some movies the user has not watched and has high score based on our model. So, we can recommend them. '"
            ]
          },
          "metadata": {
            "tags": []
          },
          "execution_count": 39
        }
      ]
    }
  ]
}